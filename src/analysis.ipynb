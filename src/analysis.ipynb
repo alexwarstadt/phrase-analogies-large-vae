{
 "metadata": {
  "language_info": {
   "codemirror_mode": {
    "name": "ipython",
    "version": 3
   },
   "file_extension": ".py",
   "mimetype": "text/x-python",
   "name": "python",
   "nbconvert_exporter": "python",
   "pygments_lexer": "ipython3",
   "version": "3.7.3"
  },
  "orig_nbformat": 2,
  "kernelspec": {
   "name": "pythonjvsc74a57bd0acda099694ad76001655967d4ca2de79b410be55a02597b12e22a58357e78734",
   "display_name": "Python 3.7.3  ('.mllu': venv)"
  },
  "metadata": {
   "interpreter": {
    "hash": "acda099694ad76001655967d4ca2de79b410be55a02597b12e22a58357e78734"
   }
  }
 },
 "nbformat": 4,
 "nbformat_minor": 2,
 "cells": [
  {
   "cell_type": "code",
   "execution_count": 1,
   "metadata": {},
   "outputs": [],
   "source": [
    "# !pip install funcy\n",
    "# %env OPTIMUS_CHECKPOINT_DIR=../pretrained_models/optimus_snli10/checkpoint-31250/"
   ]
  },
  {
   "source": [
    "\"\"\"\n",
    "Import our dependencies\n",
    "\"\"\"\n",
    "import pandas as pd\n",
    "import numpy as np\n",
    "import buckets as b"
   ],
   "cell_type": "code",
   "metadata": {},
   "execution_count": 1,
   "outputs": []
  },
  {
   "cell_type": "code",
   "execution_count": 2,
   "metadata": {},
   "outputs": [
    {
     "output_type": "stream",
     "name": "stdout",
     "text": [
      "Downloading file from scored/plurals_data_scored.csv to /tmp/plurals_data_scored.csv\n",
      "Downloading file from scored/opposite_data_scored.csv to /tmp/opposite_data_scored.csv\n",
      "Downloading file from scored/comparative_data_scored.csv to /tmp/comparative_data_scored.csv\n"
     ]
    }
   ],
   "source": [
    "plurals_filename = b.get_file(\"s3://scored/plurals_data_scored.csv\")\n",
    "opposites_filename = b.get_file(\"s3://scored/opposite_data_scored.csv\")\n",
    "comparatives_filename = b.get_file(\"s3://scored/comparative_data_scored.csv\")\n",
    "plurals = pd.read_csv(plurals_filename)\n",
    "opposites = pd.read_csv(opposites_filename)\n",
    "comparatives = pd.read_csv(comparatives_filename)"
   ]
  },
  {
   "source": [
    "## Plurals"
   ],
   "cell_type": "markdown",
   "metadata": {}
  },
  {
   "cell_type": "code",
   "execution_count": 3,
   "metadata": {},
   "outputs": [
    {
     "output_type": "stream",
     "name": "stdout",
     "text": [
      "Counts of each type of value within the plurals dataset\n"
     ]
    },
    {
     "output_type": "execute_result",
     "data": {
      "text/plain": [
       "plural|from-single                  5007\n",
       "plural|to-some|indefinite            418\n",
       "plural|to-many|indefinite            410\n",
       "plural|to-ten|indefinite             408\n",
       "plural|to-twenty two|indefinite      408\n",
       "plural|to-various|indefinite         379\n",
       "plural|to-one hundred|indefinite     370\n",
       "plural|to-five|indefinite            362\n",
       "plural|to-twenty|indefinite          357\n",
       "plural|to-three|indefinite           335\n",
       "plural|to-six|indefinite             333\n",
       "plural|to-two|indefinite             318\n",
       "plural|to-two hundred|indefinite     300\n",
       "plural|to-nine|indefinite            298\n",
       "plural|to-four|indefinite            292\n",
       "plural|to-twenty|definite              2\n",
       "plural|to-two hundred|definite         2\n",
       "plural|to-six|definite                 1\n",
       "Name: subcategory, dtype: int64"
      ]
     },
     "metadata": {},
     "execution_count": 3
    }
   ],
   "source": [
    "print(\"Counts of each type of value within the plurals dataset\")\n",
    "plural_type_counts = plurals.subcategory.value_counts()\n",
    "plural_type_counts"
   ]
  },
  {
   "cell_type": "code",
   "execution_count": 4,
   "metadata": {},
   "outputs": [
    {
     "output_type": "stream",
     "name": "stdout",
     "text": [
      "Percentage of each type which were found to be exact matches\n"
     ]
    },
    {
     "output_type": "execute_result",
     "data": {
      "text/plain": [
       "plural|from-single                   8.168564\n",
       "plural|to-five|indefinite            4.972376\n",
       "plural|to-four|indefinite           11.986301\n",
       "plural|to-many|indefinite            3.658537\n",
       "plural|to-nine|indefinite            0.671141\n",
       "plural|to-one hundred|indefinite     0.000000\n",
       "plural|to-six|definite               0.000000\n",
       "plural|to-six|indefinite             2.702703\n",
       "plural|to-some|indefinite            6.220096\n",
       "plural|to-ten|indefinite             1.470588\n",
       "plural|to-three|indefinite          11.641791\n",
       "plural|to-twenty two|indefinite      0.000000\n",
       "plural|to-twenty|definite            0.000000\n",
       "plural|to-twenty|indefinite          0.560224\n",
       "plural|to-two hundred|definite       0.000000\n",
       "plural|to-two hundred|indefinite     0.000000\n",
       "plural|to-two|indefinite             9.748428\n",
       "plural|to-various|indefinite         0.000000\n",
       "dtype: float64"
      ]
     },
     "metadata": {},
     "execution_count": 4
    }
   ],
   "source": [
    "print(\"Percentage of each type which were found to be exact matches\")\n",
    "(plurals.groupby(by=\"subcategory\")['score_0_exact'].agg(\"sum\") / plural_type_counts) * 100"
   ]
  },
  {
   "cell_type": "code",
   "execution_count": 5,
   "metadata": {},
   "outputs": [
    {
     "output_type": "stream",
     "name": "stdout",
     "text": [
      "Evaluating means of bleu scores\n"
     ]
    },
    {
     "output_type": "execute_result",
     "data": {
      "text/plain": [
       "subcategory\n",
       "plural|from-single                  0.3253\n",
       "plural|to-five|indefinite           0.2728\n",
       "plural|to-four|indefinite           0.3607\n",
       "plural|to-many|indefinite           0.2854\n",
       "plural|to-nine|indefinite           0.2302\n",
       "plural|to-one hundred|indefinite    0.1659\n",
       "plural|to-six|definite              0.0000\n",
       "plural|to-six|indefinite            0.2679\n",
       "plural|to-some|indefinite           0.2857\n",
       "plural|to-ten|indefinite            0.2479\n",
       "plural|to-three|indefinite          0.3405\n",
       "plural|to-twenty two|indefinite     0.1785\n",
       "plural|to-twenty|definite           0.3078\n",
       "plural|to-twenty|indefinite         0.2299\n",
       "plural|to-two hundred|definite      0.0626\n",
       "plural|to-two hundred|indefinite    0.2163\n",
       "plural|to-two|indefinite            0.3685\n",
       "plural|to-various|indefinite        0.3402\n",
       "Name: score_0_bleu, dtype: float64"
      ]
     },
     "metadata": {},
     "execution_count": 5
    }
   ],
   "source": [
    "print(\"Evaluating means of bleu scores\")\n",
    "plurals.groupby(by=\"subcategory\")['score_0_bleu'].agg(\"mean\").round(4)\n"
   ]
  },
  {
   "cell_type": "code",
   "execution_count": 6,
   "metadata": {},
   "outputs": [
    {
     "output_type": "stream",
     "name": "stdout",
     "text": [
      "Median bleu score of each subcategory\n"
     ]
    },
    {
     "output_type": "execute_result",
     "data": {
      "text/plain": [
       "subcategory\n",
       "plural|from-single                  0.269111\n",
       "plural|to-five|indefinite           0.166029\n",
       "plural|to-four|indefinite           0.304200\n",
       "plural|to-many|indefinite           0.182124\n",
       "plural|to-nine|indefinite           0.000292\n",
       "plural|to-one hundred|indefinite    0.000159\n",
       "plural|to-six|definite              0.000000\n",
       "plural|to-six|indefinite            0.182071\n",
       "plural|to-some|indefinite           0.203245\n",
       "plural|to-ten|indefinite            0.000336\n",
       "plural|to-three|indefinite          0.270657\n",
       "plural|to-twenty two|indefinite     0.000184\n",
       "plural|to-twenty|definite           0.307814\n",
       "plural|to-twenty|indefinite         0.111170\n",
       "plural|to-two hundred|definite      0.062622\n",
       "plural|to-two hundred|indefinite    0.000300\n",
       "plural|to-two|indefinite            0.324668\n",
       "plural|to-various|indefinite        0.263050\n",
       "Name: score_0_bleu, dtype: float64"
      ]
     },
     "metadata": {},
     "execution_count": 6
    }
   ],
   "source": [
    "print(\"Median bleu score of each subcategory\")\n",
    "plurals.groupby(by=\"subcategory\")['score_0_bleu'].agg(\"median\").round(6)"
   ]
  },
  {
   "cell_type": "code",
   "execution_count": 7,
   "metadata": {},
   "outputs": [
    {
     "output_type": "stream",
     "name": "stdout",
     "text": [
      "Percent of exact values from entire plural set\n"
     ]
    },
    {
     "output_type": "execute_result",
     "data": {
      "text/plain": [
       "5.92"
      ]
     },
     "metadata": {},
     "execution_count": 7
    }
   ],
   "source": [
    "print(\"Percent of exact values from entire plural set\")\n",
    "(plurals['score_0_exact'].agg(\"sum\") / len(plurals.index)) * 100"
   ]
  },
  {
   "cell_type": "code",
   "execution_count": 8,
   "metadata": {},
   "outputs": [
    {
     "output_type": "stream",
     "name": "stdout",
     "text": [
      "Average bleu score for plurals\n"
     ]
    },
    {
     "output_type": "execute_result",
     "data": {
      "text/plain": [
       "0.297"
      ]
     },
     "metadata": {},
     "execution_count": 8
    }
   ],
   "source": [
    "print(\"Average bleu score for plurals\")\n",
    "plurals['score_0_bleu'].agg(\"mean\").round(4)"
   ]
  },
  {
   "cell_type": "code",
   "execution_count": 9,
   "metadata": {},
   "outputs": [
    {
     "output_type": "stream",
     "name": "stdout",
     "text": [
      "Median bleu score for plurals\n"
     ]
    },
    {
     "output_type": "execute_result",
     "data": {
      "text/plain": [
       "0.224204"
      ]
     },
     "metadata": {},
     "execution_count": 9
    }
   ],
   "source": [
    "print(\"Median bleu score for plurals\")\n",
    "plurals['score_0_bleu'].agg(\"median\").round(6)"
   ]
  },
  {
   "cell_type": "code",
   "execution_count": 10,
   "metadata": {},
   "outputs": [
    {
     "output_type": "stream",
     "name": "stdout",
     "text": [
      "Percent of exact values from plurals where subcategory is not to-single\n"
     ]
    },
    {
     "output_type": "execute_result",
     "data": {
      "text/plain": [
       "3.66513118365712"
      ]
     },
     "metadata": {},
     "execution_count": 10
    }
   ],
   "source": [
    "print(\"Percent of exact values from plurals where subcategory is not to-single\")\n",
    "(plurals[plurals['subcategory'] != 'plural|from-single']['score_0_exact'].agg(\"sum\") / len(plurals[plurals['subcategory'] != 'plural|from-single'].index)) * 100"
   ]
  },
  {
   "cell_type": "code",
   "execution_count": 11,
   "metadata": {},
   "outputs": [
    {
     "output_type": "stream",
     "name": "stdout",
     "text": [
      "Average bleu score for plurals where subcategory is not single\n"
     ]
    },
    {
     "output_type": "execute_result",
     "data": {
      "text/plain": [
       "0.2687"
      ]
     },
     "metadata": {},
     "execution_count": 11
    }
   ],
   "source": [
    "print(\"Average bleu score for plurals where subcategory is not single\")\n",
    "plurals[plurals['subcategory'] != 'plural|from-single']['score_0_bleu'].agg(\"mean\").round(4)"
   ]
  },
  {
   "cell_type": "code",
   "execution_count": 13,
   "metadata": {},
   "outputs": [
    {
     "output_type": "stream",
     "name": "stdout",
     "text": [
      "Median bleu score for plurals where subcategory is not single\n"
     ]
    },
    {
     "output_type": "execute_result",
     "data": {
      "text/plain": [
       "0.161886"
      ]
     },
     "metadata": {},
     "execution_count": 13
    }
   ],
   "source": [
    "print(\"Median bleu score for plurals where subcategory is not single\")\n",
    "plurals[plurals['subcategory'] != 'plural|from-single']['score_0_bleu'].agg(\"median\").round(6)"
   ]
  },
  {
   "cell_type": "code",
   "execution_count": 33,
   "metadata": {},
   "outputs": [
    {
     "output_type": "stream",
     "name": "stdout",
     "text": [
      "Examples of exact matches\n"
     ]
    },
    {
     "output_type": "execute_result",
     "data": {
      "text/plain": [
       "      Unnamed: 0                                                  a  \\\n",
       "8471        8471  A man in a green shirt holds out a clipboard f...   \n",
       "3340        3340                      A man windsurfs in a wetsuit.   \n",
       "9891        9891  A woman in colorful native attire featuring a ...   \n",
       "4140        4140  A woman with dark hair is wearing a green swea...   \n",
       "3799        3799  A woman in costume is marching with a large drum.   \n",
       "3921        3921  A man in a bright green shirt shows a woman in...   \n",
       "7994        7994                A man in costume is ringing a bell.   \n",
       "5438        5438  A man wearing a gray sweater walking through a...   \n",
       "7507        7507  A woman in a green jacket and black sunglasses...   \n",
       "49            49  A man with a gray shirt holds a young infant i...   \n",
       "8001        8001  A man stopping on the sidewalk with his bike t...   \n",
       "5424        5424  A man is sitting on a motorcycle on the sidewalk.   \n",
       "8097        8097  A man with a bright green shirt is talking to ...   \n",
       "8164        8164  a woman wearing a Chinese straw hat operating ...   \n",
       "2685        2685  A woman in a red shirt is speaking at a table ...   \n",
       "3160        3160   A dog in the water carries a stick in his mouth.   \n",
       "3267        3267  A woman wearing a green headscarf laughs while...   \n",
       "4414        4414  A man with a red shirt is watching another man...   \n",
       "1155        1155  A man in a striped polo shirt is pointing and ...   \n",
       "7532        7532  a man wearing a multicolored striped shirt pla...   \n",
       "\n",
       "                                                      b  \\\n",
       "8471  some men in a green shirt holds out a clipboar...   \n",
       "3340                    six men windsurfs in a wetsuit.   \n",
       "9891  three women in colorful native attire featurin...   \n",
       "4140  four women with dark hair are wearing a green ...   \n",
       "3799  many women in costume are marching with a larg...   \n",
       "3921  four men in a bright green shirt shows a woman...   \n",
       "7994             ten men in costume are ringing a bell.   \n",
       "5438  three men wearing a gray sweater walking throu...   \n",
       "7507  ten women in a green jacket and black sunglass...   \n",
       "49    some men with a gray shirt holds a young infan...   \n",
       "8001  two men stopping on the sidewalk with his bike...   \n",
       "5424  three men are sitting on a motorcycle on the s...   \n",
       "8097  four men with a bright green shirt are talking...   \n",
       "8164  two women wearing a Chinese straw hat operatin...   \n",
       "2685  two women in a red shirt are speaking at a tab...   \n",
       "3160  two dogs in the water carries a stick in his m...   \n",
       "3267  some women wearing a green headscarf laughs wh...   \n",
       "4414  four men with a red shirt are watching another...   \n",
       "1155  five men in a striped polo shirt are pointing ...   \n",
       "7532  three men wearing a multicolored striped shirt...   \n",
       "\n",
       "                                                      c  \\\n",
       "8471   A man dressed in black is playing the harmonica.   \n",
       "3340                 A man with curly hair is sleeping.   \n",
       "9891  A woman with a backpack sitting on a bench rea...   \n",
       "4140           A man wearing a white helmet in a crowd.   \n",
       "3799               A woman standing in front of things.   \n",
       "3921  A man riding a bicycle through a crowd of people.   \n",
       "7994   A man in blue shorts rides a bike down a street.   \n",
       "5438  A man is standing on a ladder that is leaning ...   \n",
       "7507          A man in a hat is reaching toward a sign.   \n",
       "49                         A man making a canvas shade.   \n",
       "8001         A dog is swimming in an above ground pool.   \n",
       "5424  A child does a handstand on the sand at the be...   \n",
       "8097  A woman sitting against a brick wall inside a ...   \n",
       "8164            A man is on a golf course playing golf.   \n",
       "2685                A dog is running through the ocean.   \n",
       "3160                a man in a blue shirt taking a nap.   \n",
       "3267   A man wearing red is driving an old fire engine.   \n",
       "4414  A child in a jacket is holding a dog while sta...   \n",
       "1155  A woman looking into the window of a French ba...   \n",
       "7532        A man sits on a hill overlooking the ocean.   \n",
       "\n",
       "                                                      d       category  \\\n",
       "8471  some men dressed in black are playing the harm...        neutral   \n",
       "3340              six men with curly hair are sleeping.  contradiction   \n",
       "9891  three women with a backpack sitting on a bench...     entailment   \n",
       "4140        four men wearing a white helmet in a crowd.     entailment   \n",
       "3799            many women standing in front of things.        neutral   \n",
       "3921  four men riding a bicycle through a crowd of p...     entailment   \n",
       "7994  ten men in blue shorts ride a bike down a street.        neutral   \n",
       "5438  three men are standing on a ladder that is lea...        neutral   \n",
       "7507       ten men in a hat are reaching toward a sign.     entailment   \n",
       "49                      some men making a canvas shade.  contradiction   \n",
       "8001     two dogs are swimming in an above ground pool.        neutral   \n",
       "5424  three children do a handstand on the sand at t...  contradiction   \n",
       "8097  four women sitting against a brick wall inside...        neutral   \n",
       "8164         two men are on a golf course playing golf.     entailment   \n",
       "2685            two dogs are running through the ocean.  contradiction   \n",
       "3160              two men in a blue shirt taking a nap.        neutral   \n",
       "3267  some men wearing red are driving an old fire e...     entailment   \n",
       "4414  four children in a jacket are holding a dog wh...        neutral   \n",
       "1155  five women looking into the window of a French...  contradiction   \n",
       "7532     three men sit on a hill overlooking the ocean.  contradiction   \n",
       "\n",
       "                     subcategory  \\\n",
       "8471   plural|to-some|indefinite   \n",
       "3340    plural|to-six|indefinite   \n",
       "9891  plural|to-three|indefinite   \n",
       "4140   plural|to-four|indefinite   \n",
       "3799   plural|to-many|indefinite   \n",
       "3921   plural|to-four|indefinite   \n",
       "7994    plural|to-ten|indefinite   \n",
       "5438  plural|to-three|indefinite   \n",
       "7507    plural|to-ten|indefinite   \n",
       "49     plural|to-some|indefinite   \n",
       "8001    plural|to-two|indefinite   \n",
       "5424  plural|to-three|indefinite   \n",
       "8097   plural|to-four|indefinite   \n",
       "8164    plural|to-two|indefinite   \n",
       "2685    plural|to-two|indefinite   \n",
       "3160    plural|to-two|indefinite   \n",
       "3267   plural|to-some|indefinite   \n",
       "4414   plural|to-four|indefinite   \n",
       "1155   plural|to-five|indefinite   \n",
       "7532  plural|to-three|indefinite   \n",
       "\n",
       "                                                 pred_0  score_0_bleu  \\\n",
       "8471  some men dressed in black are playing the harm...           1.0   \n",
       "3340              six men with curly hair are sleeping.           1.0   \n",
       "9891  three women with a backpack sitting on a bench...           1.0   \n",
       "4140        four men wearing a white helmet in a crowd.           1.0   \n",
       "3799            many women standing in front of things.           1.0   \n",
       "3921  four men riding a bicycle through a crowd of p...           1.0   \n",
       "7994  ten men in blue shorts ride a bike down a street.           1.0   \n",
       "5438  three men are standing on a ladder that is lea...           1.0   \n",
       "7507       ten men in a hat are reaching toward a sign.           1.0   \n",
       "49                      some men making a canvas shade.           1.0   \n",
       "8001     two dogs are swimming in an above ground pool.           1.0   \n",
       "5424  three children do a handstand on the sand at t...           1.0   \n",
       "8097  four women sitting against a brick wall inside...           1.0   \n",
       "8164         two men are on a golf course playing golf.           1.0   \n",
       "2685            two dogs are running through the ocean.           1.0   \n",
       "3160              two men in a blue shirt taking a nap.           1.0   \n",
       "3267  some men wearing red are driving an old fire e...           1.0   \n",
       "4414  four children in a jacket are holding a dog wh...           1.0   \n",
       "1155  five women looking into the window of a french...           1.0   \n",
       "7532     three men sit on a hill overlooking the ocean.           1.0   \n",
       "\n",
       "      score_0_exact  \n",
       "8471              1  \n",
       "3340              1  \n",
       "9891              1  \n",
       "4140              1  \n",
       "3799              1  \n",
       "3921              1  \n",
       "7994              1  \n",
       "5438              1  \n",
       "7507              1  \n",
       "49                1  \n",
       "8001              1  \n",
       "5424              1  \n",
       "8097              1  \n",
       "8164              1  \n",
       "2685              1  \n",
       "3160              1  \n",
       "3267              1  \n",
       "4414              1  \n",
       "1155              1  \n",
       "7532              1  "
      ],
      "text/html": "<div>\n<style scoped>\n    .dataframe tbody tr th:only-of-type {\n        vertical-align: middle;\n    }\n\n    .dataframe tbody tr th {\n        vertical-align: top;\n    }\n\n    .dataframe thead th {\n        text-align: right;\n    }\n</style>\n<table border=\"1\" class=\"dataframe\">\n  <thead>\n    <tr style=\"text-align: right;\">\n      <th></th>\n      <th>Unnamed: 0</th>\n      <th>a</th>\n      <th>b</th>\n      <th>c</th>\n      <th>d</th>\n      <th>category</th>\n      <th>subcategory</th>\n      <th>pred_0</th>\n      <th>score_0_bleu</th>\n      <th>score_0_exact</th>\n    </tr>\n  </thead>\n  <tbody>\n    <tr>\n      <th>8471</th>\n      <td>8471</td>\n      <td>A man in a green shirt holds out a clipboard f...</td>\n      <td>some men in a green shirt holds out a clipboar...</td>\n      <td>A man dressed in black is playing the harmonica.</td>\n      <td>some men dressed in black are playing the harm...</td>\n      <td>neutral</td>\n      <td>plural|to-some|indefinite</td>\n      <td>some men dressed in black are playing the harm...</td>\n      <td>1.0</td>\n      <td>1</td>\n    </tr>\n    <tr>\n      <th>3340</th>\n      <td>3340</td>\n      <td>A man windsurfs in a wetsuit.</td>\n      <td>six men windsurfs in a wetsuit.</td>\n      <td>A man with curly hair is sleeping.</td>\n      <td>six men with curly hair are sleeping.</td>\n      <td>contradiction</td>\n      <td>plural|to-six|indefinite</td>\n      <td>six men with curly hair are sleeping.</td>\n      <td>1.0</td>\n      <td>1</td>\n    </tr>\n    <tr>\n      <th>9891</th>\n      <td>9891</td>\n      <td>A woman in colorful native attire featuring a ...</td>\n      <td>three women in colorful native attire featurin...</td>\n      <td>A woman with a backpack sitting on a bench rea...</td>\n      <td>three women with a backpack sitting on a bench...</td>\n      <td>entailment</td>\n      <td>plural|to-three|indefinite</td>\n      <td>three women with a backpack sitting on a bench...</td>\n      <td>1.0</td>\n      <td>1</td>\n    </tr>\n    <tr>\n      <th>4140</th>\n      <td>4140</td>\n      <td>A woman with dark hair is wearing a green swea...</td>\n      <td>four women with dark hair are wearing a green ...</td>\n      <td>A man wearing a white helmet in a crowd.</td>\n      <td>four men wearing a white helmet in a crowd.</td>\n      <td>entailment</td>\n      <td>plural|to-four|indefinite</td>\n      <td>four men wearing a white helmet in a crowd.</td>\n      <td>1.0</td>\n      <td>1</td>\n    </tr>\n    <tr>\n      <th>3799</th>\n      <td>3799</td>\n      <td>A woman in costume is marching with a large drum.</td>\n      <td>many women in costume are marching with a larg...</td>\n      <td>A woman standing in front of things.</td>\n      <td>many women standing in front of things.</td>\n      <td>neutral</td>\n      <td>plural|to-many|indefinite</td>\n      <td>many women standing in front of things.</td>\n      <td>1.0</td>\n      <td>1</td>\n    </tr>\n    <tr>\n      <th>3921</th>\n      <td>3921</td>\n      <td>A man in a bright green shirt shows a woman in...</td>\n      <td>four men in a bright green shirt shows a woman...</td>\n      <td>A man riding a bicycle through a crowd of people.</td>\n      <td>four men riding a bicycle through a crowd of p...</td>\n      <td>entailment</td>\n      <td>plural|to-four|indefinite</td>\n      <td>four men riding a bicycle through a crowd of p...</td>\n      <td>1.0</td>\n      <td>1</td>\n    </tr>\n    <tr>\n      <th>7994</th>\n      <td>7994</td>\n      <td>A man in costume is ringing a bell.</td>\n      <td>ten men in costume are ringing a bell.</td>\n      <td>A man in blue shorts rides a bike down a street.</td>\n      <td>ten men in blue shorts ride a bike down a street.</td>\n      <td>neutral</td>\n      <td>plural|to-ten|indefinite</td>\n      <td>ten men in blue shorts ride a bike down a street.</td>\n      <td>1.0</td>\n      <td>1</td>\n    </tr>\n    <tr>\n      <th>5438</th>\n      <td>5438</td>\n      <td>A man wearing a gray sweater walking through a...</td>\n      <td>three men wearing a gray sweater walking throu...</td>\n      <td>A man is standing on a ladder that is leaning ...</td>\n      <td>three men are standing on a ladder that is lea...</td>\n      <td>neutral</td>\n      <td>plural|to-three|indefinite</td>\n      <td>three men are standing on a ladder that is lea...</td>\n      <td>1.0</td>\n      <td>1</td>\n    </tr>\n    <tr>\n      <th>7507</th>\n      <td>7507</td>\n      <td>A woman in a green jacket and black sunglasses...</td>\n      <td>ten women in a green jacket and black sunglass...</td>\n      <td>A man in a hat is reaching toward a sign.</td>\n      <td>ten men in a hat are reaching toward a sign.</td>\n      <td>entailment</td>\n      <td>plural|to-ten|indefinite</td>\n      <td>ten men in a hat are reaching toward a sign.</td>\n      <td>1.0</td>\n      <td>1</td>\n    </tr>\n    <tr>\n      <th>49</th>\n      <td>49</td>\n      <td>A man with a gray shirt holds a young infant i...</td>\n      <td>some men with a gray shirt holds a young infan...</td>\n      <td>A man making a canvas shade.</td>\n      <td>some men making a canvas shade.</td>\n      <td>contradiction</td>\n      <td>plural|to-some|indefinite</td>\n      <td>some men making a canvas shade.</td>\n      <td>1.0</td>\n      <td>1</td>\n    </tr>\n    <tr>\n      <th>8001</th>\n      <td>8001</td>\n      <td>A man stopping on the sidewalk with his bike t...</td>\n      <td>two men stopping on the sidewalk with his bike...</td>\n      <td>A dog is swimming in an above ground pool.</td>\n      <td>two dogs are swimming in an above ground pool.</td>\n      <td>neutral</td>\n      <td>plural|to-two|indefinite</td>\n      <td>two dogs are swimming in an above ground pool.</td>\n      <td>1.0</td>\n      <td>1</td>\n    </tr>\n    <tr>\n      <th>5424</th>\n      <td>5424</td>\n      <td>A man is sitting on a motorcycle on the sidewalk.</td>\n      <td>three men are sitting on a motorcycle on the s...</td>\n      <td>A child does a handstand on the sand at the be...</td>\n      <td>three children do a handstand on the sand at t...</td>\n      <td>contradiction</td>\n      <td>plural|to-three|indefinite</td>\n      <td>three children do a handstand on the sand at t...</td>\n      <td>1.0</td>\n      <td>1</td>\n    </tr>\n    <tr>\n      <th>8097</th>\n      <td>8097</td>\n      <td>A man with a bright green shirt is talking to ...</td>\n      <td>four men with a bright green shirt are talking...</td>\n      <td>A woman sitting against a brick wall inside a ...</td>\n      <td>four women sitting against a brick wall inside...</td>\n      <td>neutral</td>\n      <td>plural|to-four|indefinite</td>\n      <td>four women sitting against a brick wall inside...</td>\n      <td>1.0</td>\n      <td>1</td>\n    </tr>\n    <tr>\n      <th>8164</th>\n      <td>8164</td>\n      <td>a woman wearing a Chinese straw hat operating ...</td>\n      <td>two women wearing a Chinese straw hat operatin...</td>\n      <td>A man is on a golf course playing golf.</td>\n      <td>two men are on a golf course playing golf.</td>\n      <td>entailment</td>\n      <td>plural|to-two|indefinite</td>\n      <td>two men are on a golf course playing golf.</td>\n      <td>1.0</td>\n      <td>1</td>\n    </tr>\n    <tr>\n      <th>2685</th>\n      <td>2685</td>\n      <td>A woman in a red shirt is speaking at a table ...</td>\n      <td>two women in a red shirt are speaking at a tab...</td>\n      <td>A dog is running through the ocean.</td>\n      <td>two dogs are running through the ocean.</td>\n      <td>contradiction</td>\n      <td>plural|to-two|indefinite</td>\n      <td>two dogs are running through the ocean.</td>\n      <td>1.0</td>\n      <td>1</td>\n    </tr>\n    <tr>\n      <th>3160</th>\n      <td>3160</td>\n      <td>A dog in the water carries a stick in his mouth.</td>\n      <td>two dogs in the water carries a stick in his m...</td>\n      <td>a man in a blue shirt taking a nap.</td>\n      <td>two men in a blue shirt taking a nap.</td>\n      <td>neutral</td>\n      <td>plural|to-two|indefinite</td>\n      <td>two men in a blue shirt taking a nap.</td>\n      <td>1.0</td>\n      <td>1</td>\n    </tr>\n    <tr>\n      <th>3267</th>\n      <td>3267</td>\n      <td>A woman wearing a green headscarf laughs while...</td>\n      <td>some women wearing a green headscarf laughs wh...</td>\n      <td>A man wearing red is driving an old fire engine.</td>\n      <td>some men wearing red are driving an old fire e...</td>\n      <td>entailment</td>\n      <td>plural|to-some|indefinite</td>\n      <td>some men wearing red are driving an old fire e...</td>\n      <td>1.0</td>\n      <td>1</td>\n    </tr>\n    <tr>\n      <th>4414</th>\n      <td>4414</td>\n      <td>A man with a red shirt is watching another man...</td>\n      <td>four men with a red shirt are watching another...</td>\n      <td>A child in a jacket is holding a dog while sta...</td>\n      <td>four children in a jacket are holding a dog wh...</td>\n      <td>neutral</td>\n      <td>plural|to-four|indefinite</td>\n      <td>four children in a jacket are holding a dog wh...</td>\n      <td>1.0</td>\n      <td>1</td>\n    </tr>\n    <tr>\n      <th>1155</th>\n      <td>1155</td>\n      <td>A man in a striped polo shirt is pointing and ...</td>\n      <td>five men in a striped polo shirt are pointing ...</td>\n      <td>A woman looking into the window of a French ba...</td>\n      <td>five women looking into the window of a French...</td>\n      <td>contradiction</td>\n      <td>plural|to-five|indefinite</td>\n      <td>five women looking into the window of a french...</td>\n      <td>1.0</td>\n      <td>1</td>\n    </tr>\n    <tr>\n      <th>7532</th>\n      <td>7532</td>\n      <td>a man wearing a multicolored striped shirt pla...</td>\n      <td>three men wearing a multicolored striped shirt...</td>\n      <td>A man sits on a hill overlooking the ocean.</td>\n      <td>three men sit on a hill overlooking the ocean.</td>\n      <td>contradiction</td>\n      <td>plural|to-three|indefinite</td>\n      <td>three men sit on a hill overlooking the ocean.</td>\n      <td>1.0</td>\n      <td>1</td>\n    </tr>\n  </tbody>\n</table>\n</div>"
     },
     "metadata": {},
     "execution_count": 33
    }
   ],
   "source": [
    "print(\"Examples of exact matches where not \\\"to-single\\\"\")\n",
    "plurals.query('score_0_exact == 1 & subcategory != \\'plural|from-single\\'').sample(n=20)"
   ]
  },
  {
   "source": [
    "## Opposites"
   ],
   "cell_type": "markdown",
   "metadata": {}
  },
  {
   "cell_type": "code",
   "execution_count": 15,
   "metadata": {},
   "outputs": [
    {
     "output_type": "execute_result",
     "data": {
      "text/plain": [
       "opposite|from-possibly       1778\n",
       "opposite|from-decided        1723\n",
       "opposite|from-sure           1697\n",
       "opposite|from-competitive    1358\n",
       "opposite|from-comfortable     551\n",
       "opposite|from-known           527\n",
       "opposite|from-possible        517\n",
       "opposite|from-likely          447\n",
       "opposite|from-certain         369\n",
       "opposite|from-pleasant        328\n",
       "opposite|from-impressive      233\n",
       "opposite|from-aware           225\n",
       "opposite|from-convenient       65\n",
       "opposite|from-responsible      58\n",
       "opposite|from-honest           30\n",
       "opposite|from-fortunate        23\n",
       "opposite|from-reasonable       20\n",
       "opposite|from-productive       14\n",
       "opposite|from-efficient        14\n",
       "opposite|from-informed         13\n",
       "opposite|from-informative      10\n",
       "Name: subcategory, dtype: int64"
      ]
     },
     "metadata": {},
     "execution_count": 15
    }
   ],
   "source": [
    "opposite_type_counts = opposites.subcategory.value_counts()\n",
    "opposite_type_counts"
   ]
  },
  {
   "cell_type": "code",
   "execution_count": 16,
   "metadata": {},
   "outputs": [
    {
     "output_type": "execute_result",
     "data": {
      "text/plain": [
       "opposite|from-aware          0.444444\n",
       "opposite|from-certain        0.000000\n",
       "opposite|from-comfortable    1.633394\n",
       "opposite|from-competitive    0.000000\n",
       "opposite|from-convenient     0.000000\n",
       "opposite|from-decided        0.000000\n",
       "opposite|from-efficient      0.000000\n",
       "opposite|from-fortunate      0.000000\n",
       "opposite|from-honest         0.000000\n",
       "opposite|from-impressive     0.000000\n",
       "opposite|from-informative    0.000000\n",
       "opposite|from-informed       0.000000\n",
       "opposite|from-known          0.000000\n",
       "opposite|from-likely         0.000000\n",
       "opposite|from-pleasant       0.000000\n",
       "opposite|from-possible       0.000000\n",
       "opposite|from-possibly       0.000000\n",
       "opposite|from-productive     0.000000\n",
       "opposite|from-reasonable     0.000000\n",
       "opposite|from-responsible    0.000000\n",
       "opposite|from-sure           0.000000\n",
       "dtype: float64"
      ]
     },
     "metadata": {},
     "execution_count": 16
    }
   ],
   "source": [
    "(opposites.groupby(by=\"subcategory\")['score_0_exact'].agg(\"sum\") / opposite_type_counts) * 100"
   ]
  },
  {
   "cell_type": "code",
   "execution_count": 17,
   "metadata": {},
   "outputs": [
    {
     "output_type": "execute_result",
     "data": {
      "text/plain": [
       "subcategory\n",
       "opposite|from-aware          0.1631\n",
       "opposite|from-certain        0.2075\n",
       "opposite|from-comfortable    0.2125\n",
       "opposite|from-competitive    0.2889\n",
       "opposite|from-convenient     0.2438\n",
       "opposite|from-decided        0.1525\n",
       "opposite|from-efficient      0.0000\n",
       "opposite|from-fortunate      0.3951\n",
       "opposite|from-honest         0.0296\n",
       "opposite|from-impressive     0.2227\n",
       "opposite|from-informative    0.1903\n",
       "opposite|from-informed       0.0004\n",
       "opposite|from-known          0.1879\n",
       "opposite|from-likely         0.0796\n",
       "opposite|from-pleasant       0.3380\n",
       "opposite|from-possible       0.1117\n",
       "opposite|from-possibly       0.1254\n",
       "opposite|from-productive     0.3554\n",
       "opposite|from-reasonable     0.3976\n",
       "opposite|from-responsible    0.0169\n",
       "opposite|from-sure           0.0903\n",
       "Name: score_0_bleu, dtype: float64"
      ]
     },
     "metadata": {},
     "execution_count": 17
    }
   ],
   "source": [
    "opposites.groupby(by=\"subcategory\")['score_0_bleu'].agg(\"mean\").round(4)"
   ]
  },
  {
   "cell_type": "code",
   "execution_count": 18,
   "metadata": {},
   "outputs": [
    {
     "output_type": "execute_result",
     "data": {
      "text/plain": [
       "subcategory\n",
       "opposite|from-aware          0.0004\n",
       "opposite|from-certain        0.0003\n",
       "opposite|from-comfortable    0.0005\n",
       "opposite|from-competitive    0.2761\n",
       "opposite|from-convenient     0.1769\n",
       "opposite|from-decided        0.0002\n",
       "opposite|from-efficient      0.0000\n",
       "opposite|from-fortunate      0.4301\n",
       "opposite|from-honest         0.0000\n",
       "opposite|from-impressive     0.0005\n",
       "opposite|from-informative    0.0003\n",
       "opposite|from-informed       0.0004\n",
       "opposite|from-known          0.0003\n",
       "opposite|from-likely         0.0001\n",
       "opposite|from-pleasant       0.3659\n",
       "opposite|from-possible       0.0001\n",
       "opposite|from-possibly       0.0002\n",
       "opposite|from-productive     0.4567\n",
       "opposite|from-reasonable     0.4467\n",
       "opposite|from-responsible    0.0001\n",
       "opposite|from-sure           0.0001\n",
       "Name: score_0_bleu, dtype: float64"
      ]
     },
     "metadata": {},
     "execution_count": 18
    }
   ],
   "source": [
    "opposites.groupby(by=\"subcategory\")['score_0_bleu'].agg(\"median\").round(4)"
   ]
  },
  {
   "cell_type": "code",
   "execution_count": 19,
   "metadata": {},
   "outputs": [
    {
     "output_type": "stream",
     "name": "stdout",
     "text": [
      "Percent of exact values from entire opposite set\n"
     ]
    },
    {
     "output_type": "execute_result",
     "data": {
      "text/plain": [
       "0.1"
      ]
     },
     "metadata": {},
     "execution_count": 19
    }
   ],
   "source": [
    "print(\"Percent of exact values from entire opposite set\")\n",
    "(opposites['score_0_exact'].agg(\"sum\") / len(opposites.index)) * 100"
   ]
  },
  {
   "cell_type": "code",
   "execution_count": 20,
   "metadata": {},
   "outputs": [
    {
     "output_type": "stream",
     "name": "stdout",
     "text": [
      "Average bleu score for opposites\n"
     ]
    },
    {
     "output_type": "execute_result",
     "data": {
      "text/plain": [
       "0.1658"
      ]
     },
     "metadata": {},
     "execution_count": 20
    }
   ],
   "source": [
    "print(\"Average bleu score for opposites\")\n",
    "opposites['score_0_bleu'].agg(\"mean\").round(4)"
   ]
  },
  {
   "cell_type": "code",
   "execution_count": 21,
   "metadata": {},
   "outputs": [
    {
     "output_type": "stream",
     "name": "stdout",
     "text": [
      "Median bleu score for opposites\n"
     ]
    },
    {
     "output_type": "execute_result",
     "data": {
      "text/plain": [
       "0.000211"
      ]
     },
     "metadata": {},
     "execution_count": 21
    }
   ],
   "source": [
    "print(\"Median bleu score for opposites\")\n",
    "opposites['score_0_bleu'].agg(\"median\").round(6)"
   ]
  },
  {
   "source": [
    "## Comparatives\n"
   ],
   "cell_type": "markdown",
   "metadata": {}
  },
  {
   "cell_type": "code",
   "execution_count": 22,
   "metadata": {},
   "outputs": [
    {
     "output_type": "execute_result",
     "data": {
      "text/plain": [
       "comparative|to-comp      5048\n",
       "comparative|from-comp    4951\n",
       "Name: subcategory, dtype: int64"
      ]
     },
     "metadata": {},
     "execution_count": 22
    }
   ],
   "source": [
    "comparative_type_counts = comparatives.subcategory.value_counts()\n",
    "comparative_type_counts"
   ]
  },
  {
   "cell_type": "code",
   "execution_count": 23,
   "metadata": {},
   "outputs": [
    {
     "output_type": "execute_result",
     "data": {
      "text/plain": [
       "comparative|from-comp    19.329428\n",
       "comparative|to-comp      11.846276\n",
       "dtype: float64"
      ]
     },
     "metadata": {},
     "execution_count": 23
    }
   ],
   "source": [
    "(comparatives.groupby(by=\"subcategory\")['score_0_exact'].agg(\"sum\") / comparative_type_counts) * 100"
   ]
  },
  {
   "cell_type": "code",
   "execution_count": 25,
   "metadata": {},
   "outputs": [
    {
     "output_type": "execute_result",
     "data": {
      "text/plain": [
       "subcategory\n",
       "comparative|from-comp    0.4254\n",
       "comparative|to-comp      0.3797\n",
       "Name: score_0_bleu, dtype: float64"
      ]
     },
     "metadata": {},
     "execution_count": 25
    }
   ],
   "source": [
    "comparatives.groupby(by=\"subcategory\")['score_0_bleu'].agg(\"mean\").round(4)"
   ]
  },
  {
   "cell_type": "code",
   "execution_count": 26,
   "metadata": {},
   "outputs": [
    {
     "output_type": "execute_result",
     "data": {
      "text/plain": [
       "subcategory\n",
       "comparative|from-comp    0.3689\n",
       "comparative|to-comp      0.3457\n",
       "Name: score_0_bleu, dtype: float64"
      ]
     },
     "metadata": {},
     "execution_count": 26
    }
   ],
   "source": [
    "comparatives.groupby(by=\"subcategory\")['score_0_bleu'].agg(\"median\").round(4)"
   ]
  },
  {
   "cell_type": "code",
   "execution_count": null,
   "metadata": {},
   "outputs": [],
   "source": []
  }
 ]
}