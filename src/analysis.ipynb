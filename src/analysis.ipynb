{
 "metadata": {
  "language_info": {
   "codemirror_mode": {
    "name": "ipython",
    "version": 3
   },
   "file_extension": ".py",
   "mimetype": "text/x-python",
   "name": "python",
   "nbconvert_exporter": "python",
   "pygments_lexer": "ipython3",
   "version": "3.7.3"
  },
  "orig_nbformat": 2,
  "kernelspec": {
   "name": "pythonjvsc74a57bd0acda099694ad76001655967d4ca2de79b410be55a02597b12e22a58357e78734",
   "display_name": "Python 3.7.3  ('.mllu': venv)"
  },
  "metadata": {
   "interpreter": {
    "hash": "acda099694ad76001655967d4ca2de79b410be55a02597b12e22a58357e78734"
   }
  }
 },
 "nbformat": 4,
 "nbformat_minor": 2,
 "cells": [
  {
   "cell_type": "code",
   "execution_count": 9,
   "metadata": {},
   "outputs": [],
   "source": [
    "# !pip install funcy\n",
    "# %env OPTIMUS_CHECKPOINT_DIR=../pretrained_models/optimus_snli10/checkpoint-31250/"
   ]
  },
  {
   "source": [
    "\"\"\"\n",
    "Import our dependencies\n",
    "\"\"\"\n",
    "import pandas as pd\n",
    "import numpy as np\n",
    "import buckets as b\n",
    "np.set_printoptions(suppress=True)"
   ],
   "cell_type": "code",
   "metadata": {},
   "execution_count": 10,
   "outputs": []
  },
  {
   "cell_type": "code",
   "execution_count": 11,
   "metadata": {},
   "outputs": [
    {
     "output_type": "stream",
     "name": "stdout",
     "text": [
      "Downloading file from scored/plurals_data_scored.csv to /tmp/plurals_data_scored.csv\n"
     ]
    }
   ],
   "source": [
    "scores_filename = b.get_file(\"s3://scored/plurals_data_scored.csv\")\n",
    "score_df = pd.read_csv(scores_filename)"
   ]
  },
  {
   "cell_type": "code",
   "execution_count": 12,
   "metadata": {},
   "outputs": [
    {
     "output_type": "stream",
     "name": "stdout",
     "text": [
      "Counts of each type of value within the plurals dataset\n"
     ]
    },
    {
     "output_type": "execute_result",
     "data": {
      "text/plain": [
       "plural|from-single                  5007\n",
       "plural|to-some|indefinite            418\n",
       "plural|to-many|indefinite            410\n",
       "plural|to-ten|indefinite             408\n",
       "plural|to-twenty two|indefinite      408\n",
       "plural|to-various|indefinite         379\n",
       "plural|to-one hundred|indefinite     370\n",
       "plural|to-five|indefinite            362\n",
       "plural|to-twenty|indefinite          357\n",
       "plural|to-three|indefinite           335\n",
       "plural|to-six|indefinite             333\n",
       "plural|to-two|indefinite             318\n",
       "plural|to-two hundred|indefinite     300\n",
       "plural|to-nine|indefinite            298\n",
       "plural|to-four|indefinite            292\n",
       "plural|to-two hundred|definite         2\n",
       "plural|to-twenty|definite              2\n",
       "plural|to-six|definite                 1\n",
       "Name: subcategory, dtype: int64"
      ]
     },
     "metadata": {},
     "execution_count": 12
    }
   ],
   "source": [
    "print(\"Counts of each type of value within the plurals dataset\")\n",
    "subcategory_counts = score_df.subcategory.value_counts()\n",
    "subcategory_counts"
   ]
  },
  {
   "cell_type": "code",
   "execution_count": 13,
   "metadata": {},
   "outputs": [
    {
     "output_type": "stream",
     "name": "stdout",
     "text": [
      "Percentage of each type which were found to be exact matches\n"
     ]
    },
    {
     "output_type": "execute_result",
     "data": {
      "text/plain": [
       "plural|from-single                   8.168564\n",
       "plural|to-five|indefinite            4.972376\n",
       "plural|to-four|indefinite           11.986301\n",
       "plural|to-many|indefinite            3.658537\n",
       "plural|to-nine|indefinite            0.671141\n",
       "plural|to-one hundred|indefinite     0.000000\n",
       "plural|to-six|definite               0.000000\n",
       "plural|to-six|indefinite             2.702703\n",
       "plural|to-some|indefinite            6.220096\n",
       "plural|to-ten|indefinite             1.470588\n",
       "plural|to-three|indefinite          11.641791\n",
       "plural|to-twenty two|indefinite      0.000000\n",
       "plural|to-twenty|definite            0.000000\n",
       "plural|to-twenty|indefinite          0.560224\n",
       "plural|to-two hundred|definite       0.000000\n",
       "plural|to-two hundred|indefinite     0.000000\n",
       "plural|to-two|indefinite             9.748428\n",
       "plural|to-various|indefinite         0.000000\n",
       "dtype: float64"
      ]
     },
     "metadata": {},
     "execution_count": 13
    }
   ],
   "source": [
    "print(\"Percentage of each type which were found to be exact matches\")\n",
    "(score_df.groupby(by=\"subcategory\")['score_0_exact'].agg(\"sum\") / subcategory_counts) * 100"
   ]
  },
  {
   "cell_type": "code",
   "execution_count": 14,
   "metadata": {},
   "outputs": [
    {
     "output_type": "stream",
     "name": "stdout",
     "text": [
      "Evaluating means of bleu scores\n"
     ]
    },
    {
     "output_type": "execute_result",
     "data": {
      "text/plain": [
       "subcategory\n",
       "plural|from-single                  0.2526\n",
       "plural|to-five|indefinite           0.2368\n",
       "plural|to-four|indefinite           0.3300\n",
       "plural|to-many|indefinite           0.2407\n",
       "plural|to-nine|indefinite           0.1876\n",
       "plural|to-one hundred|indefinite    0.1206\n",
       "plural|to-six|definite              0.0000\n",
       "plural|to-six|indefinite            0.2214\n",
       "plural|to-some|indefinite           0.2452\n",
       "plural|to-ten|indefinite            0.2042\n",
       "plural|to-three|indefinite          0.3067\n",
       "plural|to-twenty two|indefinite     0.1427\n",
       "plural|to-twenty|definite           0.2789\n",
       "plural|to-twenty|indefinite         0.1731\n",
       "plural|to-two hundred|definite      0.0001\n",
       "plural|to-two hundred|indefinite    0.1645\n",
       "plural|to-two|indefinite            0.3213\n",
       "plural|to-various|indefinite        0.3033\n",
       "Name: score_0_bleu, dtype: float64"
      ]
     },
     "metadata": {},
     "execution_count": 14
    }
   ],
   "source": [
    "print(\"Evaluating means of bleu scores\")\n",
    "score_df.groupby(by=\"subcategory\")['score_0_bleu'].agg(\"mean\").round(4)\n"
   ]
  },
  {
   "cell_type": "code",
   "execution_count": 16,
   "metadata": {},
   "outputs": [
    {
     "output_type": "stream",
     "name": "stdout",
     "text": [
      "Median bleu score of each subcategory\n"
     ]
    },
    {
     "output_type": "execute_result",
     "data": {
      "text/plain": [
       "subcategory\n",
       "plural|from-single                  0.0003\n",
       "plural|to-five|indefinite           0.0002\n",
       "plural|to-four|indefinite           0.2253\n",
       "plural|to-many|indefinite           0.0003\n",
       "plural|to-nine|indefinite           0.0002\n",
       "plural|to-one hundred|indefinite    0.0000\n",
       "plural|to-six|definite              0.0000\n",
       "plural|to-six|indefinite            0.0003\n",
       "plural|to-some|indefinite           0.0003\n",
       "plural|to-ten|indefinite            0.0002\n",
       "plural|to-three|indefinite          0.2115\n",
       "plural|to-twenty two|indefinite     0.0001\n",
       "plural|to-twenty|definite           0.2789\n",
       "plural|to-twenty|indefinite         0.0002\n",
       "plural|to-two hundred|definite      0.0001\n",
       "plural|to-two hundred|indefinite    0.0002\n",
       "plural|to-two|indefinite            0.2605\n",
       "plural|to-various|indefinite        0.0007\n",
       "Name: score_0_bleu, dtype: float64"
      ]
     },
     "metadata": {},
     "execution_count": 16
    }
   ],
   "source": [
    "print(\"Median bleu score of each subcategory\")\n",
    "score_df.groupby(by=\"subcategory\")['score_0_bleu'].agg(\"median\").round(4)"
   ]
  },
  {
   "cell_type": "code",
   "execution_count": null,
   "metadata": {},
   "outputs": [],
   "source": []
  }
 ]
}