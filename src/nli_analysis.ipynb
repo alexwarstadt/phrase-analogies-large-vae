{
 "cells": [
  {
   "cell_type": "code",
   "execution_count": 23,
   "id": "b70365f5-9557-40ce-aa05-5bc40a8b3e7b",
   "metadata": {},
   "outputs": [],
   "source": [
    "import pandas as pd\n",
    "import buckets as b"
   ]
  },
  {
   "cell_type": "code",
   "execution_count": 42,
   "id": "a189d152-307e-4e98-b993-d0a4425db3de",
   "metadata": {},
   "outputs": [
    {
     "name": "stdout",
     "output_type": "stream",
     "text": [
      "Downloading file from scored/nli/snli_test_data_10000_scored.csv to /tmp/snli_test_data_10000_scored.csv\n",
      "Downloading file from scored/nli/snli_train_data_10000_scored.csv to /tmp/snli_train_data_10000_scored.csv\n",
      "Loading files into frames...\n"
     ]
    }
   ],
   "source": [
    "train_dataset_filename = b.get_file(\"s3://scored/nli/snli_test_data_10000_scored.csv\")\n",
    "test_dataset_filename = b.get_file(\"s3://scored/nli/snli_train_data_10000_scored.csv\")\n",
    "\n",
    "print(\"Loading files into frames...\")\n",
    "test_frame = pd.read_csv(test_dataset_filename)\n",
    "train_frame = pd.read_csv(train_dataset_filename)\n",
    "print(\"Files loaded\")"
   ]
  },
  {
   "cell_type": "code",
   "execution_count": 45,
   "id": "4c23c6d7-8768-437e-86be-87898bae4476",
   "metadata": {},
   "outputs": [
    {
     "name": "stdout",
     "output_type": "stream",
     "text": [
      "=== Accuracy metrics ===\n",
      "\n",
      "Results from test dataset\n",
      "Entailment percentage: 0.5113045218087235\n",
      "Contradiction percentage: 0.48739495798319327\n",
      "\n",
      "NLI category:  entailment\n",
      "Three-way accuracy: 0.430862507334246\n",
      "Two-way accuracy: 0.5562292196362214\n",
      "\n",
      "NLI category:  contradiction\n",
      "Three-way accuracy: 0.5648072190319935\n",
      "Two-way accuracy: 0.7403609515996719\n",
      "\n",
      "Overall\n",
      "Three-way accuracy: 0.49624587045750324\n",
      "Two-way accuracy: 0.6461107217939733\n",
      "\n",
      "Results from train dataset\n",
      "Entailment percentage: 0.5118630493542897\n",
      "Contradiction percentage: 0.4881369506457103\n",
      "\n",
      "NLI category:  entailment\n",
      "Three-way accuracy: 0.42731363725298377\n",
      "Two-way accuracy: 0.5470553707689297\n",
      "\n",
      "NLI category:  contradiction\n",
      "Three-way accuracy: 0.5506978653530378\n",
      "Two-way accuracy: 0.7097701149425287\n",
      "\n",
      "Overall\n",
      "Three-way accuracy: 0.4868947579031613\n",
      "Two-way accuracy: 0.6256502601040416\n"
     ]
    }
   ],
   "source": [
    "print(\"=== Accuracy metrics ===\")\n",
    "for label, frame in zip([\"test\",\"train\"], [test_frame, train_frame]):\n",
    "    print(\"\\nResults from {} dataset\".format(label))\n",
    "    entailment = frame.query(\"category == 'entailment'\")\n",
    "    contradiction = frame.query(\"category == 'contradiction'\")\n",
    "    print(\"Entailment percentage: {}\".format(baseline_entailment))\n",
    "    print(\"Contradiction percentage: {}\".format(baseline_contradiction))\n",
    "    m = {'entailment': entailment, 'contradiction': contradiction}\n",
    "    for category in [\"entailment\", \"contradiction\"]:\n",
    "        print(\"\")\n",
    "        print(\"NLI category: \", category)\n",
    "        frame_cat = m[category]\n",
    "        accuracy_three_way = len(frame_cat.query(\"score_0_nli_score == 1\")) / len(frame_cat)\n",
    "        accuracy_two_way = len(frame_cat.query(\"score_0_nli_no_neutral_score == 1\")) / len(frame_cat)\n",
    "        print(\"Three-way accuracy: {}\".format(accuracy_three_way))\n",
    "        print(\"Two-way accuracy: {}\".format(accuracy_two_way))\n",
    "\n",
    "    accuracy_three_way = len(frame.query(\"score_0_nli_score == 1\")) / len(frame)\n",
    "    accuracy_two_way = len(frame.query(\"score_0_nli_no_neutral_score == 1\")) / len(frame)\n",
    "    baseline_entailment = len(entailment) / len(frame)\n",
    "    baseline_contradiction = len(contradiction) / len(frame)\n",
    "    print(\"\\nOverall\")\n",
    "    accuracy_three_way = len(frame.query(\"score_0_nli_score == 1\")) / len(frame)\n",
    "    accuracy_two_way = len(frame.query(\"score_0_nli_no_neutral_score == 1\")) / len(frame)\n",
    "\n",
    "    print(\"Three-way accuracy: {}\".format(accuracy_three_way))\n",
    "    print(\"Two-way accuracy: {}\".format(accuracy_two_way))\n",
    "    "
   ]
  },
  {
   "cell_type": "code",
   "execution_count": null,
   "id": "46515db4-7cbf-4664-9efe-4acdbdf99a30",
   "metadata": {},
   "outputs": [],
   "source": []
  },
  {
   "cell_type": "code",
   "execution_count": null,
   "id": "7ae7ae05-bb5d-4492-8b8e-010904424337",
   "metadata": {},
   "outputs": [],
   "source": []
  },
  {
   "cell_type": "code",
   "execution_count": null,
   "id": "84938144-5585-46eb-a5d0-021848b944f4",
   "metadata": {},
   "outputs": [],
   "source": []
  },
  {
   "cell_type": "code",
   "execution_count": null,
   "id": "042ec58b-42c2-4aba-8d37-157784802ce4",
   "metadata": {},
   "outputs": [],
   "source": []
  },
  {
   "cell_type": "code",
   "execution_count": null,
   "id": "1eea5a3f-a1a4-4580-8dc2-4fe31cc3f2d4",
   "metadata": {},
   "outputs": [],
   "source": []
  }
 ],
 "metadata": {
  "kernelspec": {
   "display_name": "Python 3",
   "language": "python",
   "name": "python3"
  },
  "language_info": {
   "codemirror_mode": {
    "name": "ipython",
    "version": 3
   },
   "file_extension": ".py",
   "mimetype": "text/x-python",
   "name": "python",
   "nbconvert_exporter": "python",
   "pygments_lexer": "ipython3",
   "version": "3.7.7"
  }
 },
 "nbformat": 4,
 "nbformat_minor": 5
}
